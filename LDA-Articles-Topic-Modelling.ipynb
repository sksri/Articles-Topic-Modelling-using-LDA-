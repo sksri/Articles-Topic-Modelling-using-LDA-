{
 "cells": [
  {
   "cell_type": "markdown",
   "metadata": {},
   "source": [
    "___\n",
    "\n",
    "<a href='http://www.pieriandata.com'> <img src='../Pierian_Data_Logo.png' /></a>\n",
    "___"
   ]
  },
  {
   "cell_type": "markdown",
   "metadata": {
    "collapsed": true
   },
   "source": [
    "# Topic Modeling on Articles\n",
    "\n"
   ]
  },
  {
   "cell_type": "markdown",
   "metadata": {},
   "source": [
    "## Data\n",
    "\n",
    "We will be using articles from NPR (National Public Radio), obtained from their website [www.npr.org](http://www.npr.org)"
   ]
  },
  {
   "cell_type": "code",
   "execution_count": 30,
   "metadata": {},
   "outputs": [],
   "source": [
    "import pandas as pd\n",
    "import os\n",
    "os.chdir(r'D:\\Data Science Projects\\NLP\\Articles')"
   ]
  },
  {
   "cell_type": "code",
   "execution_count": 32,
   "metadata": {},
   "outputs": [],
   "source": [
    "npr = pd.read_csv('npr.csv')"
   ]
  },
  {
   "cell_type": "code",
   "execution_count": 33,
   "metadata": {},
   "outputs": [
    {
     "data": {
      "text/html": [
       "<div>\n",
       "<style scoped>\n",
       "    .dataframe tbody tr th:only-of-type {\n",
       "        vertical-align: middle;\n",
       "    }\n",
       "\n",
       "    .dataframe tbody tr th {\n",
       "        vertical-align: top;\n",
       "    }\n",
       "\n",
       "    .dataframe thead th {\n",
       "        text-align: right;\n",
       "    }\n",
       "</style>\n",
       "<table border=\"1\" class=\"dataframe\">\n",
       "  <thead>\n",
       "    <tr style=\"text-align: right;\">\n",
       "      <th></th>\n",
       "      <th>Article</th>\n",
       "    </tr>\n",
       "  </thead>\n",
       "  <tbody>\n",
       "    <tr>\n",
       "      <th>0</th>\n",
       "      <td>In the Washington of 2016, even when the polic...</td>\n",
       "    </tr>\n",
       "    <tr>\n",
       "      <th>1</th>\n",
       "      <td>Donald Trump has used Twitter  —   his prefe...</td>\n",
       "    </tr>\n",
       "    <tr>\n",
       "      <th>2</th>\n",
       "      <td>Donald Trump is unabashedly praising Russian...</td>\n",
       "    </tr>\n",
       "    <tr>\n",
       "      <th>3</th>\n",
       "      <td>Updated at 2:50 p. m. ET, Russian President Vl...</td>\n",
       "    </tr>\n",
       "    <tr>\n",
       "      <th>4</th>\n",
       "      <td>From photography, illustration and video, to d...</td>\n",
       "    </tr>\n",
       "  </tbody>\n",
       "</table>\n",
       "</div>"
      ],
      "text/plain": [
       "                                             Article\n",
       "0  In the Washington of 2016, even when the polic...\n",
       "1    Donald Trump has used Twitter  —   his prefe...\n",
       "2    Donald Trump is unabashedly praising Russian...\n",
       "3  Updated at 2:50 p. m. ET, Russian President Vl...\n",
       "4  From photography, illustration and video, to d..."
      ]
     },
     "execution_count": 33,
     "metadata": {},
     "output_type": "execute_result"
    }
   ],
   "source": [
    "npr.head()"
   ]
  },
  {
   "cell_type": "code",
   "execution_count": 34,
   "metadata": {},
   "outputs": [
    {
     "data": {
      "text/plain": [
       "(11992, 1)"
      ]
     },
     "execution_count": 34,
     "metadata": {},
     "output_type": "execute_result"
    }
   ],
   "source": [
    "npr.shape"
   ]
  },
  {
   "cell_type": "code",
   "execution_count": 36,
   "metadata": {},
   "outputs": [
    {
     "data": {
      "text/plain": [
       "'I was standing by the airport exit, debating whether to get a snack, when a young man with a round face approached me. I focused hard to decipher his words. In a thick accent, he asked me to help him find his suitcase. As we walked to baggage claim, I learned his name: Edward Murinzi. This was his very first plane trip. A refugee from the Democratic Republic of Congo, he’d just arrived to begin his American life. Beside the luggage carousel at Washington’s Reagan Airport, he looked out at the two lanes of traffic and the concrete wall beyond. ”So this is America?” he said. From finding his bag to finding his apartment and finding a job, there was a lot for Edward to learn. Later, he acknowledged that while he was standing in the airport looking for his luggage, he felt the magnitude of the task before him. He says questions were zipping around his head: ”How will I start? You get scared. How will I manage?” After he found his bag and I called his caseworker to come and pick him up, we parted ways. He thanked me for being his ”Airport Teacher.” But, it seemed to me, he needed a teacher for the rest of America. That might as well be Claire Mukundente’s job description  —   not in Edward’s case but for many other refugees. Halfway across the country, in Chicago, Mukundente works for the   Association, a   nonprofit, and spends her days visiting new refugees and helping them adapt to a new country. How Does The Stove Work? Today, she’s headed into a   apartment building on the city’s north side. On the second floor, Alexia Mukambalaga and six of her family members share a   apartment. They arrived two weeks ago from Congo  —   by way of Rwanda and Niger. The family crowds around a folding table for lunch  —   some standing, others sitting. Within minutes of meeting them, they ask Mukundente why the food in America tastes like pineapples. It’s so sweet, they tell her. Mukundente says food is always one of the first lessons: How to get it, how to cook it and what’s healthy. She helps the family figure out what goes in the freezer and fridge, and how to use a stove. Mukundente says many Congolese have spent more than a decade in refugee camps, so a lot of the stuff in a kitchen is brand new to them. Grocery stores, too. ”Shopping can be a big deal, especially for your own food,” says Claire Mukundente. She often accompanies new arrivals to the grocery store, explaining how to evaluate dozens of different cereal brands and why it’s important to avoid the sugary drinks. Then she moves on to other lessons: the banking system and bus routes, social norms and gender dynamics. Mukundente says they talk about ”almost everything.” She says these families have learned a lot shuttling between countries and refugee camps, but when they come to a place like Chicago, many of those skills don’t translate. But Mukundente insists that she’s not their teacher. Instead she says, ”I see them as myself. Like me, when I came.” Claire Mukundente fled Rwanda in the 1990s during the genocide. And after traveling through seven countries, she arrived in Chicago. She cleaned hotel rooms, tried to learn English and scrambled to find daycare for her three kids. Ten years ago, she decided to start teaching other refugees what she’d learned. But not all refugees have someone like Claire Mukundente. Three months after I met Edward at the airport, I visited his   apartment. It was about 30 minutes outside Washington, and he shared it with several other refugees. (He has since moved to Louisville, Ky.) Sitting in the living room that doubled as his bedroom, he told me that soon after arriving he realized he needed to be his own teacher. So, he started observing everything. ”I tried to observe very silently,” he said in the room that functions as his living room, bedroom, kitchen and dining room. He learned to read a map and a bank statement. But Edward says there was more he called them ”invisible lessons  —   ideas.” The biggest one? ”Time was paramount to every success in America.” Edward said that, during his 20 years in a refugee camp in Uganda, time had never before been linked to money. Just being a person meant you got a food ration, he said. But here, he got a job  —   as a line worker  —   and he was paid hourly. ”Time was important. Important!” He told me that things have been hard during his first three months  —   America hadn’t quite been the Promised Land he expected. ”I remember the story in the Bible: The Exodus.” Back in the refugee camp, Edward said, he always thought life would be easy in America, akin to the Biblical land of milk and honey. But now, he finds himself having to remember that the Israelites struggled, as refugees and newcomers. Eventually though, they learned to adapt to life in a new land. Edward says he hopes he will too.'"
      ]
     },
     "execution_count": 36,
     "metadata": {},
     "output_type": "execute_result"
    }
   ],
   "source": [
    "npr['Article'][7]"
   ]
  },
  {
   "cell_type": "markdown",
   "metadata": {},
   "source": [
    "# Preprocessing\n",
    "\n",
    "#### Task: Use TF-IDF Vectorization to create a vectorized document term matrix. You may want to explore the max_df and min_df parameters."
   ]
  },
  {
   "cell_type": "code",
   "execution_count": 37,
   "metadata": {},
   "outputs": [],
   "source": [
    "from sklearn.feature_extraction.text import CountVectorizer"
   ]
  },
  {
   "cell_type": "code",
   "execution_count": 39,
   "metadata": {},
   "outputs": [],
   "source": [
    "cv = CountVectorizer(max_df=0.95, min_df=2, stop_words='english')"
   ]
  },
  {
   "cell_type": "markdown",
   "metadata": {},
   "source": [
    "**`max_df`**` : float in range [0.0, 1.0] or int, default=1.0`<br>\n",
    "When building the vocabulary ignore terms that have a document frequency strictly higher than the given threshold (corpus-specific stop words). If float, the parameter represents a proportion of documents, integer absolute counts. This parameter is ignored if vocabulary is not None.\n",
    "\n",
    "**`min_df`**` : float in range [0.0, 1.0] or int, default=1`<br>\n",
    "When building the vocabulary ignore terms that have a document frequency strictly lower than the given threshold. This value is also called cut-off in the literature. If float, the parameter represents a proportion of documents, integer absolute counts. This parameter is ignored if vocabulary is not None."
   ]
  },
  {
   "cell_type": "code",
   "execution_count": 41,
   "metadata": {},
   "outputs": [],
   "source": [
    "dtm = cv.fit_transform(npr['Article'])"
   ]
  },
  {
   "cell_type": "code",
   "execution_count": 42,
   "metadata": {},
   "outputs": [
    {
     "data": {
      "text/plain": [
       "(11992, 54777)"
      ]
     },
     "execution_count": 42,
     "metadata": {},
     "output_type": "execute_result"
    }
   ],
   "source": [
    "#TF-IDF Dimensions\n",
    "dtm.shape"
   ]
  },
  {
   "cell_type": "markdown",
   "metadata": {},
   "source": [
    "# Latent Dirichlet Allocation (LDA)\n",
    "\n",
    "#### TASK: Using Scikit-Learn create an instance of LDA with 7 expected components. (Use random_state=42).."
   ]
  },
  {
   "cell_type": "code",
   "execution_count": 43,
   "metadata": {},
   "outputs": [],
   "source": [
    "from sklearn.decomposition import LatentDirichletAllocation"
   ]
  },
  {
   "cell_type": "code",
   "execution_count": 44,
   "metadata": {},
   "outputs": [],
   "source": [
    "# Create an NMF instance: model\n",
    "# the 20 components will be the topics\n",
    "lda_model = LatentDirichletAllocation(n_components=7, random_state=42)"
   ]
  },
  {
   "cell_type": "code",
   "execution_count": 45,
   "metadata": {},
   "outputs": [
    {
     "data": {
      "text/plain": [
       "LatentDirichletAllocation(n_components=7, random_state=42)"
      ]
     },
     "execution_count": 45,
     "metadata": {},
     "output_type": "execute_result"
    }
   ],
   "source": [
    "# Fit the model to TF-IDF\n",
    "lda_model.fit(dtm)"
   ]
  },
  {
   "cell_type": "code",
   "execution_count": 46,
   "metadata": {},
   "outputs": [
    {
     "name": "stdout",
     "output_type": "stream",
     "text": [
      "The top 15 words for TOPIC is: 0\n",
      "['companies', 'money', 'year', 'federal', '000', 'new', 'percent', 'government', 'company', 'million', 'care', 'people', 'health', 'said', 'says']\n",
      "\n",
      "The top 15 words for TOPIC is: 1\n",
      "['military', 'house', 'security', 'russia', 'government', 'npr', 'reports', 'says', 'news', 'people', 'told', 'police', 'president', 'trump', 'said']\n",
      "\n",
      "The top 15 words for TOPIC is: 2\n",
      "['way', 'world', 'family', 'home', 'day', 'time', 'water', 'city', 'new', 'years', 'food', 'just', 'people', 'like', 'says']\n",
      "\n",
      "The top 15 words for TOPIC is: 3\n",
      "['time', 'new', 'don', 'years', 'medical', 'disease', 'patients', 'just', 'children', 'study', 'like', 'women', 'health', 'people', 'says']\n",
      "\n",
      "The top 15 words for TOPIC is: 4\n",
      "['voters', 'vote', 'election', 'party', 'new', 'obama', 'court', 'republican', 'campaign', 'people', 'state', 'president', 'clinton', 'said', 'trump']\n",
      "\n",
      "The top 15 words for TOPIC is: 5\n",
      "['years', 'going', 've', 'life', 'don', 'new', 'way', 'music', 'really', 'time', 'know', 'think', 'people', 'just', 'like']\n",
      "\n",
      "The top 15 words for TOPIC is: 6\n",
      "['student', 'years', 'data', 'science', 'university', 'people', 'time', 'schools', 'just', 'education', 'new', 'like', 'students', 'school', 'says']\n",
      "\n"
     ]
    }
   ],
   "source": [
    "for index, topic in enumerate(lda_model.components_):\n",
    "    print(f\"The top 15 words for TOPIC is: {index}\")\n",
    "    print([cv.get_feature_names()[i] for i in topic.argsort()[-15:]])\n",
    "    print()"
   ]
  },
  {
   "cell_type": "code",
   "execution_count": 47,
   "metadata": {},
   "outputs": [],
   "source": [
    "# Transform the TF-IDF: nmf_features (document & topic matrix)\n",
    "lda_features = lda_model.transform(dtm)  "
   ]
  },
  {
   "cell_type": "code",
   "execution_count": 48,
   "metadata": {},
   "outputs": [
    {
     "data": {
      "text/plain": [
       "(11992, 7)"
      ]
     },
     "execution_count": 48,
     "metadata": {},
     "output_type": "execute_result"
    }
   ],
   "source": [
    "#Features Dimensions\n",
    "lda_features.shape"
   ]
  },
  {
   "cell_type": "code",
   "execution_count": 49,
   "metadata": {},
   "outputs": [
    {
     "data": {
      "text/plain": [
       "(7, 54777)"
      ]
     },
     "execution_count": 49,
     "metadata": {},
     "output_type": "execute_result"
    }
   ],
   "source": [
    "#Components Dimensions (topic and word matrix)\n",
    "lda_model.components_.shape"
   ]
  },
  {
   "cell_type": "code",
   "execution_count": 50,
   "metadata": {},
   "outputs": [
    {
     "data": {
      "text/html": [
       "<div>\n",
       "<style scoped>\n",
       "    .dataframe tbody tr th:only-of-type {\n",
       "        vertical-align: middle;\n",
       "    }\n",
       "\n",
       "    .dataframe tbody tr th {\n",
       "        vertical-align: top;\n",
       "    }\n",
       "\n",
       "    .dataframe thead th {\n",
       "        text-align: right;\n",
       "    }\n",
       "</style>\n",
       "<table border=\"1\" class=\"dataframe\">\n",
       "  <thead>\n",
       "    <tr style=\"text-align: right;\">\n",
       "      <th></th>\n",
       "      <th>00</th>\n",
       "      <th>000</th>\n",
       "      <th>00000</th>\n",
       "      <th>000s</th>\n",
       "      <th>000th</th>\n",
       "      <th>002</th>\n",
       "      <th>004</th>\n",
       "      <th>007</th>\n",
       "      <th>009</th>\n",
       "      <th>00s</th>\n",
       "      <th>...</th>\n",
       "      <th>zulu</th>\n",
       "      <th>zuma</th>\n",
       "      <th>zumba</th>\n",
       "      <th>zuraw</th>\n",
       "      <th>zurich</th>\n",
       "      <th>zwicky</th>\n",
       "      <th>zydeco</th>\n",
       "      <th>ángel</th>\n",
       "      <th>émigrés</th>\n",
       "      <th>überfunky</th>\n",
       "    </tr>\n",
       "  </thead>\n",
       "  <tbody>\n",
       "    <tr>\n",
       "      <th>0</th>\n",
       "      <td>8.643328</td>\n",
       "      <td>2380.143327</td>\n",
       "      <td>0.142901</td>\n",
       "      <td>3.142641</td>\n",
       "      <td>0.142857</td>\n",
       "      <td>0.143743</td>\n",
       "      <td>0.143003</td>\n",
       "      <td>0.142878</td>\n",
       "      <td>0.143104</td>\n",
       "      <td>0.142900</td>\n",
       "      <td>...</td>\n",
       "      <td>0.142857</td>\n",
       "      <td>0.159712</td>\n",
       "      <td>0.143003</td>\n",
       "      <td>0.156732</td>\n",
       "      <td>0.987469</td>\n",
       "      <td>0.142857</td>\n",
       "      <td>0.142858</td>\n",
       "      <td>0.143007</td>\n",
       "      <td>0.142902</td>\n",
       "      <td>0.142862</td>\n",
       "    </tr>\n",
       "    <tr>\n",
       "      <th>1</th>\n",
       "      <td>27.619175</td>\n",
       "      <td>536.394437</td>\n",
       "      <td>0.142857</td>\n",
       "      <td>0.142861</td>\n",
       "      <td>0.143092</td>\n",
       "      <td>1.168792</td>\n",
       "      <td>0.142862</td>\n",
       "      <td>0.144935</td>\n",
       "      <td>1.896723</td>\n",
       "      <td>0.142862</td>\n",
       "      <td>...</td>\n",
       "      <td>0.142881</td>\n",
       "      <td>0.143611</td>\n",
       "      <td>0.143911</td>\n",
       "      <td>0.142857</td>\n",
       "      <td>0.142967</td>\n",
       "      <td>0.142857</td>\n",
       "      <td>0.142858</td>\n",
       "      <td>0.142862</td>\n",
       "      <td>0.142857</td>\n",
       "      <td>0.142907</td>\n",
       "    </tr>\n",
       "    <tr>\n",
       "      <th>2</th>\n",
       "      <td>7.227839</td>\n",
       "      <td>824.033986</td>\n",
       "      <td>0.142857</td>\n",
       "      <td>0.142928</td>\n",
       "      <td>0.143214</td>\n",
       "      <td>0.142867</td>\n",
       "      <td>0.143010</td>\n",
       "      <td>0.142902</td>\n",
       "      <td>0.142857</td>\n",
       "      <td>0.142922</td>\n",
       "      <td>...</td>\n",
       "      <td>0.143010</td>\n",
       "      <td>0.143709</td>\n",
       "      <td>0.144234</td>\n",
       "      <td>0.142857</td>\n",
       "      <td>2.373677</td>\n",
       "      <td>3.124346</td>\n",
       "      <td>0.142966</td>\n",
       "      <td>6.142362</td>\n",
       "      <td>2.140614</td>\n",
       "      <td>0.142924</td>\n",
       "    </tr>\n",
       "    <tr>\n",
       "      <th>3</th>\n",
       "      <td>1.752141</td>\n",
       "      <td>900.736692</td>\n",
       "      <td>0.142857</td>\n",
       "      <td>0.142857</td>\n",
       "      <td>1.768809</td>\n",
       "      <td>2.984565</td>\n",
       "      <td>0.142857</td>\n",
       "      <td>1.159362</td>\n",
       "      <td>1.387008</td>\n",
       "      <td>0.142864</td>\n",
       "      <td>...</td>\n",
       "      <td>0.142883</td>\n",
       "      <td>0.142897</td>\n",
       "      <td>3.712762</td>\n",
       "      <td>0.147033</td>\n",
       "      <td>4.066328</td>\n",
       "      <td>0.142857</td>\n",
       "      <td>0.142870</td>\n",
       "      <td>0.142944</td>\n",
       "      <td>0.143107</td>\n",
       "      <td>0.142857</td>\n",
       "    </tr>\n",
       "    <tr>\n",
       "      <th>4</th>\n",
       "      <td>3.114887</td>\n",
       "      <td>350.409655</td>\n",
       "      <td>0.142857</td>\n",
       "      <td>0.142915</td>\n",
       "      <td>0.143387</td>\n",
       "      <td>0.142943</td>\n",
       "      <td>2.316872</td>\n",
       "      <td>1.140668</td>\n",
       "      <td>0.144594</td>\n",
       "      <td>0.142869</td>\n",
       "      <td>...</td>\n",
       "      <td>0.142857</td>\n",
       "      <td>6.928944</td>\n",
       "      <td>0.142926</td>\n",
       "      <td>0.142857</td>\n",
       "      <td>0.142872</td>\n",
       "      <td>0.142989</td>\n",
       "      <td>0.142863</td>\n",
       "      <td>0.142860</td>\n",
       "      <td>0.142857</td>\n",
       "      <td>0.142867</td>\n",
       "    </tr>\n",
       "    <tr>\n",
       "      <th>5</th>\n",
       "      <td>46.148639</td>\n",
       "      <td>51.440860</td>\n",
       "      <td>3.142814</td>\n",
       "      <td>0.142886</td>\n",
       "      <td>0.143158</td>\n",
       "      <td>0.143412</td>\n",
       "      <td>0.968539</td>\n",
       "      <td>3.126244</td>\n",
       "      <td>0.142857</td>\n",
       "      <td>15.142685</td>\n",
       "      <td>...</td>\n",
       "      <td>2.142655</td>\n",
       "      <td>4.337526</td>\n",
       "      <td>0.570270</td>\n",
       "      <td>2.124807</td>\n",
       "      <td>0.143321</td>\n",
       "      <td>0.143914</td>\n",
       "      <td>13.142728</td>\n",
       "      <td>0.143108</td>\n",
       "      <td>0.143902</td>\n",
       "      <td>2.142718</td>\n",
       "    </tr>\n",
       "    <tr>\n",
       "      <th>6</th>\n",
       "      <td>0.493991</td>\n",
       "      <td>418.841042</td>\n",
       "      <td>0.142857</td>\n",
       "      <td>0.142911</td>\n",
       "      <td>2.515483</td>\n",
       "      <td>1.273678</td>\n",
       "      <td>0.142857</td>\n",
       "      <td>0.143011</td>\n",
       "      <td>0.142857</td>\n",
       "      <td>0.142897</td>\n",
       "      <td>...</td>\n",
       "      <td>0.142857</td>\n",
       "      <td>0.143601</td>\n",
       "      <td>0.142894</td>\n",
       "      <td>0.142857</td>\n",
       "      <td>0.143367</td>\n",
       "      <td>0.160180</td>\n",
       "      <td>0.142857</td>\n",
       "      <td>0.142857</td>\n",
       "      <td>0.143760</td>\n",
       "      <td>0.142866</td>\n",
       "    </tr>\n",
       "  </tbody>\n",
       "</table>\n",
       "<p>7 rows × 54777 columns</p>\n",
       "</div>"
      ],
      "text/plain": [
       "          00          000     00000      000s     000th       002       004  \\\n",
       "0   8.643328  2380.143327  0.142901  3.142641  0.142857  0.143743  0.143003   \n",
       "1  27.619175   536.394437  0.142857  0.142861  0.143092  1.168792  0.142862   \n",
       "2   7.227839   824.033986  0.142857  0.142928  0.143214  0.142867  0.143010   \n",
       "3   1.752141   900.736692  0.142857  0.142857  1.768809  2.984565  0.142857   \n",
       "4   3.114887   350.409655  0.142857  0.142915  0.143387  0.142943  2.316872   \n",
       "5  46.148639    51.440860  3.142814  0.142886  0.143158  0.143412  0.968539   \n",
       "6   0.493991   418.841042  0.142857  0.142911  2.515483  1.273678  0.142857   \n",
       "\n",
       "        007       009        00s  ...      zulu      zuma     zumba     zuraw  \\\n",
       "0  0.142878  0.143104   0.142900  ...  0.142857  0.159712  0.143003  0.156732   \n",
       "1  0.144935  1.896723   0.142862  ...  0.142881  0.143611  0.143911  0.142857   \n",
       "2  0.142902  0.142857   0.142922  ...  0.143010  0.143709  0.144234  0.142857   \n",
       "3  1.159362  1.387008   0.142864  ...  0.142883  0.142897  3.712762  0.147033   \n",
       "4  1.140668  0.144594   0.142869  ...  0.142857  6.928944  0.142926  0.142857   \n",
       "5  3.126244  0.142857  15.142685  ...  2.142655  4.337526  0.570270  2.124807   \n",
       "6  0.143011  0.142857   0.142897  ...  0.142857  0.143601  0.142894  0.142857   \n",
       "\n",
       "     zurich    zwicky     zydeco     ángel   émigrés  überfunky  \n",
       "0  0.987469  0.142857   0.142858  0.143007  0.142902   0.142862  \n",
       "1  0.142967  0.142857   0.142858  0.142862  0.142857   0.142907  \n",
       "2  2.373677  3.124346   0.142966  6.142362  2.140614   0.142924  \n",
       "3  4.066328  0.142857   0.142870  0.142944  0.143107   0.142857  \n",
       "4  0.142872  0.142989   0.142863  0.142860  0.142857   0.142867  \n",
       "5  0.143321  0.143914  13.142728  0.143108  0.143902   2.142718  \n",
       "6  0.143367  0.160180   0.142857  0.142857  0.143760   0.142866  \n",
       "\n",
       "[7 rows x 54777 columns]"
      ]
     },
     "execution_count": 50,
     "metadata": {},
     "output_type": "execute_result"
    }
   ],
   "source": [
    "# Create a DataFrame: components_df\n",
    "components_df = pd.DataFrame(lda_model.components_ , columns=cv.get_feature_names())\n",
    "components_df"
   ]
  },
  {
   "cell_type": "code",
   "execution_count": 51,
   "metadata": {},
   "outputs": [
    {
     "name": "stdout",
     "output_type": "stream",
     "text": [
      "For topic 1, the top 10 words with the highest value are:\n",
      "says          6247.245511\n",
      "said          4608.957060\n",
      "health        3699.339794\n",
      "people        3643.826184\n",
      "care          2760.197441\n",
      "million       2628.992411\n",
      "company       2626.815541\n",
      "government    2533.274225\n",
      "percent       2529.319134\n",
      "new           2454.825196\n",
      "Name: 0, dtype: float64\n",
      "\n",
      "\n",
      "For topic 2, the top 10 words with the highest value are:\n",
      "said         10102.177169\n",
      "trump         5131.084582\n",
      "president     4136.107708\n",
      "police        3486.606931\n",
      "told          2866.730952\n",
      "people        2775.498131\n",
      "news          2708.201875\n",
      "says          2611.376404\n",
      "reports       2541.147184\n",
      "npr           2520.698546\n",
      "Name: 1, dtype: float64\n",
      "\n",
      "\n",
      "For topic 3, the top 10 words with the highest value are:\n",
      "says      13636.686911\n",
      "like       4427.556101\n",
      "people     4281.840795\n",
      "just       3476.564642\n",
      "food       3145.001238\n",
      "years      2868.878582\n",
      "new        2757.696699\n",
      "city       2625.646160\n",
      "water      2372.209237\n",
      "time       2325.818241\n",
      "Name: 2, dtype: float64\n",
      "\n",
      "\n",
      "For topic 4, the top 10 words with the highest value are:\n",
      "says        12688.532826\n",
      "people       6242.810494\n",
      "health       4469.314583\n",
      "women        3637.731306\n",
      "like         2780.201627\n",
      "study        2744.195631\n",
      "children     2379.699010\n",
      "just         2342.784110\n",
      "patients     2234.951533\n",
      "disease      2180.608379\n",
      "Name: 3, dtype: float64\n",
      "\n",
      "\n",
      "For topic 5, the top 10 words with the highest value are:\n",
      "trump         15728.662700\n",
      "said           8954.057666\n",
      "clinton        7239.725742\n",
      "president      5351.993337\n",
      "state          4811.176494\n",
      "people         4719.046153\n",
      "campaign       4308.972569\n",
      "republican     3474.128751\n",
      "court          3359.513170\n",
      "obama          3168.398585\n",
      "Name: 4, dtype: float64\n",
      "\n",
      "\n",
      "For topic 6, the top 10 words with the highest value are:\n",
      "like      8261.013120\n",
      "just      6342.791648\n",
      "people    5146.863725\n",
      "think     4412.065574\n",
      "know      4244.147753\n",
      "time      3989.457504\n",
      "really    3746.630704\n",
      "music     3608.556947\n",
      "way       3582.723517\n",
      "new       3475.037143\n",
      "Name: 5, dtype: float64\n",
      "\n",
      "\n",
      "For topic 7, the top 10 words with the highest value are:\n",
      "says         6344.397176\n",
      "school       4111.052945\n",
      "students     3717.680495\n",
      "like         2270.624962\n",
      "new          2157.472058\n",
      "education    1999.462737\n",
      "just         1994.377090\n",
      "schools      1914.943564\n",
      "time         1776.100377\n",
      "people       1645.114519\n",
      "Name: 6, dtype: float64\n",
      "\n",
      "\n"
     ]
    }
   ],
   "source": [
    "#Get the Words of the Highest Value for each Topic\n",
    "\n",
    "for topic in range(components_df.shape[0]):\n",
    "    tmp = components_df.iloc[topic]\n",
    "    print(f'For topic {topic+1}, the top 10 words with the highest value are:')\n",
    "    print(tmp.nlargest(10))\n",
    "    print('\\n')"
   ]
  },
  {
   "cell_type": "code",
   "execution_count": 52,
   "metadata": {},
   "outputs": [
    {
     "data": {
      "text/plain": [
       "'Almost a million elephants roamed Africa 25 years ago. Assessments of their population now vary but suggest there are fewer than half that many. The main reason for the decline is ivory. Despite a 1989 ban on ivory trade, poachers continue to kill elephants for their tusks. Now China, the destination for most of that ivory, has announced it will shut down its domestic ivory market. Wildlife experts had thought that the international ban on ivory trade would slow or even stop the killing of elephants for their tusks. It didn’t. In fact, the killing got worse. That’s mostly because the ban didn’t cover older ivory, that is, ivory taken from elephants before the 1989 ban. So people are still killing elephants but passing off their ivory as old, and therefore legal to trade. John Robinson, with the Wildlife Conservation Society, says efforts to stop the supply of ivory at the source, in Africa, have not been very successful. ”Addressing the demand is absolutely essential if we are going to deal with the poaching issues,” he says. The biggest source of demand for ivory has been China. ”Almost all the ivory is for carving,” says Robinson. ”China has had a history of doing so. Whole tusks are carved into elaborately assembled pieces of one kind or another.” Now China has agreed to close down that legal trade by the end of 2017. Robinson says it’s an announcement conservationists have been waiting for since 2015, when U. S. and Chinese officials started negotiating an end to China’s trade. ”Certainly closing down domestic ivory in China will have a dramatic impact,” says Robinson. ”The Chinese market is the largest ivory market in the world.” Says conservation expert Elly Pepper at the Natural Resources Defense Council: ”It’s a game changer and could be the pivotal turning point that brings elephants back from the brink of extinction.” The Chinese government has laid out an extensive plan that includes putting ivory carvers to work on existing museum pieces or other projects. The government says it will also educate the public on the consequences of ivory trading for elephant populations. The Obama administration already has shut down almost all trade in ivory in the U. S. and several states have their own bans. Robinson says the Chinese decision may help convince other countries that trade in ivory, such as Vietnam, the United Kingdom and Japan, to do the same.'"
      ]
     },
     "execution_count": 52,
     "metadata": {},
     "output_type": "execute_result"
    }
   ],
   "source": [
    "npr['Article'][55]"
   ]
  },
  {
   "cell_type": "code",
   "execution_count": 53,
   "metadata": {},
   "outputs": [
    {
     "data": {
      "text/plain": [
       "0    0.444300\n",
       "1    0.000693\n",
       "2    0.552238\n",
       "3    0.000692\n",
       "4    0.000693\n",
       "5    0.000692\n",
       "6    0.000692\n",
       "Name: 55, dtype: float64"
      ]
     },
     "execution_count": 53,
     "metadata": {},
     "output_type": "execute_result"
    }
   ],
   "source": [
    "# to get the topics from Feature Matrix for 55th document \n",
    "pd.DataFrame(lda_features).loc[55]"
   ]
  },
  {
   "cell_type": "code",
   "execution_count": 54,
   "metadata": {},
   "outputs": [
    {
     "data": {
      "text/plain": [
       "2"
      ]
     },
     "execution_count": 54,
     "metadata": {},
     "output_type": "execute_result"
    }
   ],
   "source": [
    "# to get the index in once\n",
    "pd.DataFrame(lda_features).loc[55].idxmax()"
   ]
  },
  {
   "cell_type": "code",
   "execution_count": 55,
   "metadata": {},
   "outputs": [
    {
     "data": {
      "text/plain": [
       "0     2759\n",
       "1     2331\n",
       "2     8956\n",
       "3    10184\n",
       "4     7966\n",
       "5    10958\n",
       "6     8253\n",
       "dtype: int64"
      ]
     },
     "execution_count": 55,
     "metadata": {},
     "output_type": "execute_result"
    }
   ],
   "source": [
    "# to see the number of documents for each topic\n",
    "pd.DataFrame(lda_features).idxmax()"
   ]
  },
  {
   "cell_type": "code",
   "execution_count": 56,
   "metadata": {},
   "outputs": [],
   "source": [
    "# Get dominant topic for each document\n",
    "npr['Topic'] = lda_features.argmax(axis=1)"
   ]
  },
  {
   "cell_type": "code",
   "execution_count": 57,
   "metadata": {},
   "outputs": [
    {
     "data": {
      "text/html": [
       "<div>\n",
       "<style scoped>\n",
       "    .dataframe tbody tr th:only-of-type {\n",
       "        vertical-align: middle;\n",
       "    }\n",
       "\n",
       "    .dataframe tbody tr th {\n",
       "        vertical-align: top;\n",
       "    }\n",
       "\n",
       "    .dataframe thead th {\n",
       "        text-align: right;\n",
       "    }\n",
       "</style>\n",
       "<table border=\"1\" class=\"dataframe\">\n",
       "  <thead>\n",
       "    <tr style=\"text-align: right;\">\n",
       "      <th></th>\n",
       "      <th>Article</th>\n",
       "      <th>Topic</th>\n",
       "    </tr>\n",
       "  </thead>\n",
       "  <tbody>\n",
       "    <tr>\n",
       "      <th>0</th>\n",
       "      <td>In the Washington of 2016, even when the polic...</td>\n",
       "      <td>1</td>\n",
       "    </tr>\n",
       "    <tr>\n",
       "      <th>1</th>\n",
       "      <td>Donald Trump has used Twitter  —   his prefe...</td>\n",
       "      <td>1</td>\n",
       "    </tr>\n",
       "    <tr>\n",
       "      <th>2</th>\n",
       "      <td>Donald Trump is unabashedly praising Russian...</td>\n",
       "      <td>1</td>\n",
       "    </tr>\n",
       "    <tr>\n",
       "      <th>3</th>\n",
       "      <td>Updated at 2:50 p. m. ET, Russian President Vl...</td>\n",
       "      <td>1</td>\n",
       "    </tr>\n",
       "    <tr>\n",
       "      <th>4</th>\n",
       "      <td>From photography, illustration and video, to d...</td>\n",
       "      <td>2</td>\n",
       "    </tr>\n",
       "    <tr>\n",
       "      <th>5</th>\n",
       "      <td>I did not want to join yoga class. I hated tho...</td>\n",
       "      <td>3</td>\n",
       "    </tr>\n",
       "    <tr>\n",
       "      <th>6</th>\n",
       "      <td>With a   who has publicly supported the debunk...</td>\n",
       "      <td>3</td>\n",
       "    </tr>\n",
       "    <tr>\n",
       "      <th>7</th>\n",
       "      <td>I was standing by the airport exit, debating w...</td>\n",
       "      <td>2</td>\n",
       "    </tr>\n",
       "    <tr>\n",
       "      <th>8</th>\n",
       "      <td>If movies were trying to be more realistic, pe...</td>\n",
       "      <td>3</td>\n",
       "    </tr>\n",
       "    <tr>\n",
       "      <th>9</th>\n",
       "      <td>Eighteen years ago, on New Year’s Eve, David F...</td>\n",
       "      <td>2</td>\n",
       "    </tr>\n",
       "  </tbody>\n",
       "</table>\n",
       "</div>"
      ],
      "text/plain": [
       "                                             Article  Topic\n",
       "0  In the Washington of 2016, even when the polic...      1\n",
       "1    Donald Trump has used Twitter  —   his prefe...      1\n",
       "2    Donald Trump is unabashedly praising Russian...      1\n",
       "3  Updated at 2:50 p. m. ET, Russian President Vl...      1\n",
       "4  From photography, illustration and video, to d...      2\n",
       "5  I did not want to join yoga class. I hated tho...      3\n",
       "6  With a   who has publicly supported the debunk...      3\n",
       "7  I was standing by the airport exit, debating w...      2\n",
       "8  If movies were trying to be more realistic, pe...      3\n",
       "9  Eighteen years ago, on New Year’s Eve, David F...      2"
      ]
     },
     "execution_count": 57,
     "metadata": {},
     "output_type": "execute_result"
    }
   ],
   "source": [
    "npr.head(10)"
   ]
  },
  {
   "cell_type": "code",
   "execution_count": 58,
   "metadata": {},
   "outputs": [
    {
     "data": {
      "text/html": [
       "<div>\n",
       "<style scoped>\n",
       "    .dataframe tbody tr th:only-of-type {\n",
       "        vertical-align: middle;\n",
       "    }\n",
       "\n",
       "    .dataframe tbody tr th {\n",
       "        vertical-align: top;\n",
       "    }\n",
       "\n",
       "    .dataframe thead th {\n",
       "        text-align: right;\n",
       "    }\n",
       "</style>\n",
       "<table border=\"1\" class=\"dataframe\">\n",
       "  <thead>\n",
       "    <tr style=\"text-align: right;\">\n",
       "      <th></th>\n",
       "      <th>Article</th>\n",
       "      <th>Topic</th>\n",
       "      <th>Topic_theme</th>\n",
       "    </tr>\n",
       "  </thead>\n",
       "  <tbody>\n",
       "    <tr>\n",
       "      <th>0</th>\n",
       "      <td>In the Washington of 2016, even when the polic...</td>\n",
       "      <td>1</td>\n",
       "      <td>Education/Business/Money</td>\n",
       "    </tr>\n",
       "    <tr>\n",
       "      <th>1</th>\n",
       "      <td>Donald Trump has used Twitter  —   his prefe...</td>\n",
       "      <td>1</td>\n",
       "      <td>Education/Business/Money</td>\n",
       "    </tr>\n",
       "    <tr>\n",
       "      <th>2</th>\n",
       "      <td>Donald Trump is unabashedly praising Russian...</td>\n",
       "      <td>1</td>\n",
       "      <td>Education/Business/Money</td>\n",
       "    </tr>\n",
       "    <tr>\n",
       "      <th>3</th>\n",
       "      <td>Updated at 2:50 p. m. ET, Russian President Vl...</td>\n",
       "      <td>1</td>\n",
       "      <td>Education/Business/Money</td>\n",
       "    </tr>\n",
       "    <tr>\n",
       "      <th>4</th>\n",
       "      <td>From photography, illustration and video, to d...</td>\n",
       "      <td>2</td>\n",
       "      <td>American Medicare/Trump</td>\n",
       "    </tr>\n",
       "    <tr>\n",
       "      <th>5</th>\n",
       "      <td>I did not want to join yoga class. I hated tho...</td>\n",
       "      <td>3</td>\n",
       "      <td>State/Social/Rights</td>\n",
       "    </tr>\n",
       "    <tr>\n",
       "      <th>6</th>\n",
       "      <td>With a   who has publicly supported the debunk...</td>\n",
       "      <td>3</td>\n",
       "      <td>State/Social/Rights</td>\n",
       "    </tr>\n",
       "    <tr>\n",
       "      <th>7</th>\n",
       "      <td>I was standing by the airport exit, debating w...</td>\n",
       "      <td>2</td>\n",
       "      <td>American Medicare/Trump</td>\n",
       "    </tr>\n",
       "    <tr>\n",
       "      <th>8</th>\n",
       "      <td>If movies were trying to be more realistic, pe...</td>\n",
       "      <td>3</td>\n",
       "      <td>State/Social/Rights</td>\n",
       "    </tr>\n",
       "    <tr>\n",
       "      <th>9</th>\n",
       "      <td>Eighteen years ago, on New Year’s Eve, David F...</td>\n",
       "      <td>2</td>\n",
       "      <td>American Medicare/Trump</td>\n",
       "    </tr>\n",
       "    <tr>\n",
       "      <th>10</th>\n",
       "      <td>For years now, some of the best, wildest, most...</td>\n",
       "      <td>5</td>\n",
       "      <td>Highly educated Indian engineers in America</td>\n",
       "    </tr>\n",
       "    <tr>\n",
       "      <th>11</th>\n",
       "      <td>For years now, some of the best, wildest, most...</td>\n",
       "      <td>5</td>\n",
       "      <td>Highly educated Indian engineers in America</td>\n",
       "    </tr>\n",
       "    <tr>\n",
       "      <th>12</th>\n",
       "      <td>The Colorado River is like a giant bank accoun...</td>\n",
       "      <td>2</td>\n",
       "      <td>American Medicare/Trump</td>\n",
       "    </tr>\n",
       "    <tr>\n",
       "      <th>13</th>\n",
       "      <td>For the last installment of NPR’s holiday reci...</td>\n",
       "      <td>2</td>\n",
       "      <td>American Medicare/Trump</td>\n",
       "    </tr>\n",
       "    <tr>\n",
       "      <th>14</th>\n",
       "      <td>Being overweight can raise your blood pressure...</td>\n",
       "      <td>3</td>\n",
       "      <td>State/Social/Rights</td>\n",
       "    </tr>\n",
       "  </tbody>\n",
       "</table>\n",
       "</div>"
      ],
      "text/plain": [
       "                                              Article  Topic  \\\n",
       "0   In the Washington of 2016, even when the polic...      1   \n",
       "1     Donald Trump has used Twitter  —   his prefe...      1   \n",
       "2     Donald Trump is unabashedly praising Russian...      1   \n",
       "3   Updated at 2:50 p. m. ET, Russian President Vl...      1   \n",
       "4   From photography, illustration and video, to d...      2   \n",
       "5   I did not want to join yoga class. I hated tho...      3   \n",
       "6   With a   who has publicly supported the debunk...      3   \n",
       "7   I was standing by the airport exit, debating w...      2   \n",
       "8   If movies were trying to be more realistic, pe...      3   \n",
       "9   Eighteen years ago, on New Year’s Eve, David F...      2   \n",
       "10  For years now, some of the best, wildest, most...      5   \n",
       "11  For years now, some of the best, wildest, most...      5   \n",
       "12  The Colorado River is like a giant bank accoun...      2   \n",
       "13  For the last installment of NPR’s holiday reci...      2   \n",
       "14  Being overweight can raise your blood pressure...      3   \n",
       "\n",
       "                                    Topic_theme  \n",
       "0                      Education/Business/Money  \n",
       "1                      Education/Business/Money  \n",
       "2                      Education/Business/Money  \n",
       "3                      Education/Business/Money  \n",
       "4                       American Medicare/Trump  \n",
       "5                           State/Social/Rights  \n",
       "6                           State/Social/Rights  \n",
       "7                       American Medicare/Trump  \n",
       "8                           State/Social/Rights  \n",
       "9                       American Medicare/Trump  \n",
       "10  Highly educated Indian engineers in America  \n",
       "11  Highly educated Indian engineers in America  \n",
       "12                      American Medicare/Trump  \n",
       "13                      American Medicare/Trump  \n",
       "14                          State/Social/Rights  "
      ]
     },
     "execution_count": 58,
     "metadata": {},
     "output_type": "execute_result"
    }
   ],
   "source": [
    "def label_theme(row):\n",
    "    if row['Topic'] == 0 :\n",
    "        return 'American/Car/Marriage/Story/Life in general'\n",
    "    if row['Topic'] == 1 :\n",
    "        return 'Education/Business/Money'\n",
    "    if row['Topic'] == 2 :\n",
    "        return 'American Medicare/Trump'\n",
    "    if row['Topic'] == 3:\n",
    "        return 'State/Social/Rights'\n",
    "    if row['Topic']  == 4:\n",
    "        return 'Build new life'\n",
    "    if row['Topic'] == 5:\n",
    "        return 'Highly educated Indian engineers in America'\n",
    "    if row['Topic'] == 6:\n",
    "        return 'Tips on improving work day efficiency'\n",
    "        \n",
    "npr['Topic_theme'] = npr.apply (lambda row: label_theme(row), axis=1)\n",
    "npr.head(15)"
   ]
  },
  {
   "cell_type": "markdown",
   "metadata": {},
   "source": [
    "# How to Predict the Topic of a New Document"
   ]
  },
  {
   "cell_type": "markdown",
   "metadata": {},
   "source": [
    "#### Let’s say that we want to assign a topic of a new unseen document. Then, we will need to take the document, to transform the TF-IDF model and finally to transform the NMF model."
   ]
  },
  {
   "cell_type": "code",
   "execution_count": 66,
   "metadata": {},
   "outputs": [
    {
     "data": {
      "text/html": [
       "<div>\n",
       "<style scoped>\n",
       "    .dataframe tbody tr th:only-of-type {\n",
       "        vertical-align: middle;\n",
       "    }\n",
       "\n",
       "    .dataframe tbody tr th {\n",
       "        vertical-align: top;\n",
       "    }\n",
       "\n",
       "    .dataframe thead th {\n",
       "        text-align: right;\n",
       "    }\n",
       "</style>\n",
       "<table border=\"1\" class=\"dataframe\">\n",
       "  <thead>\n",
       "    <tr style=\"text-align: right;\">\n",
       "      <th></th>\n",
       "      <th>0</th>\n",
       "      <th>1</th>\n",
       "      <th>2</th>\n",
       "      <th>3</th>\n",
       "      <th>4</th>\n",
       "      <th>5</th>\n",
       "      <th>6</th>\n",
       "    </tr>\n",
       "  </thead>\n",
       "  <tbody>\n",
       "    <tr>\n",
       "      <th>0</th>\n",
       "      <td>0.236983</td>\n",
       "      <td>0.020464</td>\n",
       "      <td>0.347512</td>\n",
       "      <td>0.020513</td>\n",
       "      <td>0.333635</td>\n",
       "      <td>0.020442</td>\n",
       "      <td>0.020451</td>\n",
       "    </tr>\n",
       "  </tbody>\n",
       "</table>\n",
       "</div>"
      ],
      "text/plain": [
       "          0         1         2         3         4         5         6\n",
       "0  0.236983  0.020464  0.347512  0.020513  0.333635  0.020442  0.020451"
      ]
     },
     "execution_count": 66,
     "metadata": {},
     "output_type": "execute_result"
    }
   ],
   "source": [
    "my_news = \"\"\"I will vote to Modi goverment in this Kolkata election for their work towards INDIA\"\"\"\n",
    " \n",
    "# Transform the Count Vectorization\n",
    "X = cv.transform([my_news])\n",
    "# Transform the Count Vectorization: lda_features\n",
    "lda_features = lda_model.transform(X)\n",
    " \n",
    "pd.DataFrame(lda_features)"
   ]
  },
  {
   "cell_type": "code",
   "execution_count": 67,
   "metadata": {},
   "outputs": [
    {
     "name": "stdout",
     "output_type": "stream",
     "text": [
      "The given document belongs to Topic 2.\n"
     ]
    }
   ],
   "source": [
    "# if we want to get the index of the topic with the highest score:\n",
    "\n",
    "topic = pd.DataFrame(lda_features).idxmax(axis=1)\n",
    "print(f'The given document belongs to Topic {topic[0]}.')"
   ]
  },
  {
   "cell_type": "code",
   "execution_count": null,
   "metadata": {},
   "outputs": [],
   "source": []
  }
 ],
 "metadata": {
  "kernelspec": {
   "display_name": "Python 3",
   "language": "python",
   "name": "python3"
  },
  "language_info": {
   "codemirror_mode": {
    "name": "ipython",
    "version": 3
   },
   "file_extension": ".py",
   "mimetype": "text/x-python",
   "name": "python",
   "nbconvert_exporter": "python",
   "pygments_lexer": "ipython3",
   "version": "3.8.5"
  }
 },
 "nbformat": 4,
 "nbformat_minor": 2
}
